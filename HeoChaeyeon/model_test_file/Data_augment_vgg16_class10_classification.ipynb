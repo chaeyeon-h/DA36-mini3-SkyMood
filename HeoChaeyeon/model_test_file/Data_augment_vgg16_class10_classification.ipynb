{
 "nbformat": 4,
 "nbformat_minor": 0,
 "metadata": {
  "colab": {
   "provenance": [],
   "gpuType": "T4"
  },
  "kernelspec": {
   "name": "python3",
   "display_name": "Python 3"
  },
  "language_info": {
   "name": "python"
  },
  "accelerator": "GPU"
 },
 "cells": [
  {
   "cell_type": "code",
   "execution_count": null,
   "metadata": {
    "id": "BdzrPqAg3RwP"
   },
   "outputs": [],
   "source": [
    "import numpy as np\n",
    "import pandas as pd\n",
    "import matplotlib.pyplot as plt\n",
    "import cv2"
   ]
  },
  {
   "cell_type": "code",
   "source": [
    "from tensorflow.keras.applications import VGG16\n",
    "from tensorflow.keras.layers import GlobalAveragePooling2D, Dense, Dropout,Flatten\n",
    "from tensorflow.keras.models import Model"
   ],
   "metadata": {
    "id": "hWqMetti3hpp"
   },
   "execution_count": null,
   "outputs": []
  },
  {
   "cell_type": "code",
   "source": [
    "#@title DataLoad [gdown]\n",
    "import gdown, zipfile, os\n",
    "\n",
    "file_id = '1OvQwfbLsAYN4GPENpLGkW87fpeBqTr9Z'\n",
    "output = 'file.zip'\n",
    "\n",
    "gdown.download(f'https://drive.google.com/uc?id={file_id}', output, quiet=False)\n",
    "\n",
    "output_dir = 'cloud'\n",
    "os.makedirs(output_dir, exist_ok=True)\n",
    "\n",
    "with zipfile.ZipFile(output, 'r') as z:\n",
    "  z.extractall(output_dir)"
   ],
   "metadata": {
    "colab": {
     "base_uri": "https://localhost:8080/"
    },
    "id": "QjU3m_sm3i03",
    "executionInfo": {
     "status": "ok",
     "timestamp": 1732599337622,
     "user_tz": -540,
     "elapsed": 6769,
     "user": {
      "displayName": "챈콩이",
      "userId": "00781481841991263062"
     }
    },
    "outputId": "e601e4f4-163c-453c-d17b-b28fd357cf63"
   },
   "execution_count": null,
   "outputs": [
    {
     "output_type": "stream",
     "name": "stderr",
     "text": [
      "Downloading...\n",
      "From (original): https://drive.google.com/uc?id=1OvQwfbLsAYN4GPENpLGkW87fpeBqTr9Z\n",
      "From (redirected): https://drive.google.com/uc?id=1OvQwfbLsAYN4GPENpLGkW87fpeBqTr9Z&confirm=t&uuid=2b787302-fefa-45ea-a8da-f8630acea71f\n",
      "To: /content/file.zip\n",
      "100%|██████████| 97.7M/97.7M [00:00<00:00, 169MB/s]\n"
     ]
    }
   ]
  },
  {
   "cell_type": "code",
   "source": [
    "#@title DataLoad (cloud/data/train)\n",
    "import numpy as np\n",
    "def load_data(base_dir='cloud/data/train'):\n",
    "  images_path = []\n",
    "  labels = []\n",
    "  class_names = []\n",
    "\n",
    "  for class_name in os.listdir(base_dir):\n",
    "    class_name_path = os.path.join(base_dir, class_name)\n",
    "\n",
    "    # 디렉토리인 경우만\n",
    "    if os.path.isdir(class_name_path):\n",
    "      for image_name in os.listdir(class_name_path):\n",
    "        image_path = os.path.join(class_name_path, image_name)\n",
    "        images_path.append(image_path)\n",
    "        labels.append(class_name)\n",
    "\n",
    "  return np.array(images_path), np.array(labels)\n",
    "\n",
    "images_path, labels = load_data()\n",
    "print(images_path.shape, labels.shape)\n",
    "print(np.unique(labels))"
   ],
   "metadata": {
    "colab": {
     "base_uri": "https://localhost:8080/"
    },
    "id": "vwjNKdDc3nF8",
    "executionInfo": {
     "status": "ok",
     "timestamp": 1732599348382,
     "user_tz": -540,
     "elapsed": 258,
     "user": {
      "displayName": "챈콩이",
      "userId": "00781481841991263062"
     }
    },
    "outputId": "b68f64f3-9c6b-4263-f452-3b4f4c2717fc"
   },
   "execution_count": null,
   "outputs": [
    {
     "output_type": "stream",
     "name": "stdout",
     "text": [
      "(2323,) (2323,)\n",
      "['Ac' 'As' 'Cb' 'Cc' 'Ci' 'Cs' 'Ct' 'Cu' 'Ns' 'Sc' 'St']\n"
     ]
    }
   ]
  },
  {
   "cell_type": "code",
   "source": [
    "#@title train_validation data split\n",
    "from sklearn.model_selection  import train_test_split\n",
    "\n",
    "train_images_path ,test_images_path, train_labels, test_labels=train_test_split(images_path, labels, test_size=0.2, random_state=42)\n",
    "train_images_path,val_images_path, train_labels,val_labels=train_test_split(train_images_path, train_labels, test_size=0.3, random_state=42)\n",
    "train_images_path.shape, val_images_path.shape, train_labels.shape, val_labels.shape"
   ],
   "metadata": {
    "colab": {
     "base_uri": "https://localhost:8080/",
     "height": 356
    },
    "id": "UWoeha-aSSbj",
    "executionInfo": {
     "status": "error",
     "timestamp": 1732598943108,
     "user_tz": -540,
     "elapsed": 256,
     "user": {
      "displayName": "허채연/학생/인공지능공학",
      "userId": "06003063200904167502"
     }
    },
    "outputId": "001b1985-8627-4af4-b509-c9d367b7e3f4"
   },
   "execution_count": null,
   "outputs": [
    {
     "output_type": "error",
     "ename": "ValueError",
     "evalue": "With n_samples=0, test_size=0.2 and train_size=None, the resulting train set will be empty. Adjust any of the aforementioned parameters.",
     "traceback": [
      "\u001B[0;31m---------------------------------------------------------------------------\u001B[0m",
      "\u001B[0;31mValueError\u001B[0m                                Traceback (most recent call last)",
      "\u001B[0;32m<ipython-input-17-0252b070b32d>\u001B[0m in \u001B[0;36m<cell line: 4>\u001B[0;34m()\u001B[0m\n\u001B[1;32m      2\u001B[0m \u001B[0;32mfrom\u001B[0m \u001B[0msklearn\u001B[0m\u001B[0;34m.\u001B[0m\u001B[0mmodel_selection\u001B[0m  \u001B[0;32mimport\u001B[0m \u001B[0mtrain_test_split\u001B[0m\u001B[0;34m\u001B[0m\u001B[0;34m\u001B[0m\u001B[0m\n\u001B[1;32m      3\u001B[0m \u001B[0;34m\u001B[0m\u001B[0m\n\u001B[0;32m----> 4\u001B[0;31m \u001B[0mtrain_images_path\u001B[0m \u001B[0;34m,\u001B[0m\u001B[0mval_images_path\u001B[0m\u001B[0;34m,\u001B[0m \u001B[0mtrain_labels\u001B[0m\u001B[0;34m,\u001B[0m \u001B[0mval_labels\u001B[0m\u001B[0;34m=\u001B[0m\u001B[0mtrain_test_split\u001B[0m\u001B[0;34m(\u001B[0m\u001B[0mimages_path\u001B[0m\u001B[0;34m,\u001B[0m \u001B[0mlabels\u001B[0m\u001B[0;34m,\u001B[0m \u001B[0mtest_size\u001B[0m\u001B[0;34m=\u001B[0m\u001B[0;36m0.2\u001B[0m\u001B[0;34m,\u001B[0m \u001B[0mrandom_state\u001B[0m\u001B[0;34m=\u001B[0m\u001B[0;36m42\u001B[0m\u001B[0;34m)\u001B[0m\u001B[0;34m\u001B[0m\u001B[0;34m\u001B[0m\u001B[0m\n\u001B[0m\u001B[1;32m      5\u001B[0m \u001B[0mtrain_images_path\u001B[0m\u001B[0;34m.\u001B[0m\u001B[0mshape\u001B[0m\u001B[0;34m,\u001B[0m \u001B[0mval_images_path\u001B[0m\u001B[0;34m.\u001B[0m\u001B[0mshape\u001B[0m\u001B[0;34m,\u001B[0m \u001B[0mtrain_labels\u001B[0m\u001B[0;34m.\u001B[0m\u001B[0mshape\u001B[0m\u001B[0;34m,\u001B[0m \u001B[0mval_labels\u001B[0m\u001B[0;34m.\u001B[0m\u001B[0mshape\u001B[0m\u001B[0;34m\u001B[0m\u001B[0;34m\u001B[0m\u001B[0m\n",
      "\u001B[0;32m/usr/local/lib/python3.10/dist-packages/sklearn/utils/_param_validation.py\u001B[0m in \u001B[0;36mwrapper\u001B[0;34m(*args, **kwargs)\u001B[0m\n\u001B[1;32m    211\u001B[0m                     )\n\u001B[1;32m    212\u001B[0m                 ):\n\u001B[0;32m--> 213\u001B[0;31m                     \u001B[0;32mreturn\u001B[0m \u001B[0mfunc\u001B[0m\u001B[0;34m(\u001B[0m\u001B[0;34m*\u001B[0m\u001B[0margs\u001B[0m\u001B[0;34m,\u001B[0m \u001B[0;34m**\u001B[0m\u001B[0mkwargs\u001B[0m\u001B[0;34m)\u001B[0m\u001B[0;34m\u001B[0m\u001B[0;34m\u001B[0m\u001B[0m\n\u001B[0m\u001B[1;32m    214\u001B[0m             \u001B[0;32mexcept\u001B[0m \u001B[0mInvalidParameterError\u001B[0m \u001B[0;32mas\u001B[0m \u001B[0me\u001B[0m\u001B[0;34m:\u001B[0m\u001B[0;34m\u001B[0m\u001B[0;34m\u001B[0m\u001B[0m\n\u001B[1;32m    215\u001B[0m                 \u001B[0;31m# When the function is just a wrapper around an estimator, we allow\u001B[0m\u001B[0;34m\u001B[0m\u001B[0;34m\u001B[0m\u001B[0m\n",
      "\u001B[0;32m/usr/local/lib/python3.10/dist-packages/sklearn/model_selection/_split.py\u001B[0m in \u001B[0;36mtrain_test_split\u001B[0;34m(test_size, train_size, random_state, shuffle, stratify, *arrays)\u001B[0m\n\u001B[1;32m   2783\u001B[0m \u001B[0;34m\u001B[0m\u001B[0m\n\u001B[1;32m   2784\u001B[0m     \u001B[0mn_samples\u001B[0m \u001B[0;34m=\u001B[0m \u001B[0m_num_samples\u001B[0m\u001B[0;34m(\u001B[0m\u001B[0marrays\u001B[0m\u001B[0;34m[\u001B[0m\u001B[0;36m0\u001B[0m\u001B[0;34m]\u001B[0m\u001B[0;34m)\u001B[0m\u001B[0;34m\u001B[0m\u001B[0;34m\u001B[0m\u001B[0m\n\u001B[0;32m-> 2785\u001B[0;31m     n_train, n_test = _validate_shuffle_split(\n\u001B[0m\u001B[1;32m   2786\u001B[0m         \u001B[0mn_samples\u001B[0m\u001B[0;34m,\u001B[0m \u001B[0mtest_size\u001B[0m\u001B[0;34m,\u001B[0m \u001B[0mtrain_size\u001B[0m\u001B[0;34m,\u001B[0m \u001B[0mdefault_test_size\u001B[0m\u001B[0;34m=\u001B[0m\u001B[0;36m0.25\u001B[0m\u001B[0;34m\u001B[0m\u001B[0;34m\u001B[0m\u001B[0m\n\u001B[1;32m   2787\u001B[0m     )\n",
      "\u001B[0;32m/usr/local/lib/python3.10/dist-packages/sklearn/model_selection/_split.py\u001B[0m in \u001B[0;36m_validate_shuffle_split\u001B[0;34m(n_samples, test_size, train_size, default_test_size)\u001B[0m\n\u001B[1;32m   2413\u001B[0m \u001B[0;34m\u001B[0m\u001B[0m\n\u001B[1;32m   2414\u001B[0m     \u001B[0;32mif\u001B[0m \u001B[0mn_train\u001B[0m \u001B[0;34m==\u001B[0m \u001B[0;36m0\u001B[0m\u001B[0;34m:\u001B[0m\u001B[0;34m\u001B[0m\u001B[0;34m\u001B[0m\u001B[0m\n\u001B[0;32m-> 2415\u001B[0;31m         raise ValueError(\n\u001B[0m\u001B[1;32m   2416\u001B[0m             \u001B[0;34m\"With n_samples={}, test_size={} and train_size={}, the \"\u001B[0m\u001B[0;34m\u001B[0m\u001B[0;34m\u001B[0m\u001B[0m\n\u001B[1;32m   2417\u001B[0m             \u001B[0;34m\"resulting train set will be empty. Adjust any of the \"\u001B[0m\u001B[0;34m\u001B[0m\u001B[0;34m\u001B[0m\u001B[0m\n",
      "\u001B[0;31mValueError\u001B[0m: With n_samples=0, test_size=0.2 and train_size=None, the resulting train set will be empty. Adjust any of the aforementioned parameters."
     ]
    }
   ]
  },
  {
   "metadata": {
    "id": "K0WTwSVABiwl"
   },
   "cell_type": "code",
   "outputs": [],
   "execution_count": null,
   "source": [
    "#@title Data_Augmentation (sequence class 정의)\n",
    "\n",
    "from sklearn.preprocessing import LabelEncoder\n",
    "from tensorflow.keras.utils import Sequence\n",
    "from sklearn.utils import shuffle\n",
    "import cv2\n",
    "import matplotlib.pyplot as plt\n",
    "import albumentations as A\n",
    "\n",
    "BATCH_SIZE = 32\n",
    "IMAGE_SIZE = 224\n",
    "\n",
    "# 증강을 위한 sequence\n",
    "class CloudAugSequence(Sequence):\n",
    "  def __init__(self, images_path, labels, batch_size=BATCH_SIZE, augmentor=None,\n",
    "               image_size=IMAGE_SIZE, preprocess_function=None,save_dir=None):\n",
    "    self.images_path = images_path\n",
    "    self.labels = labels\n",
    "    self.batch_size = batch_size\n",
    "    self.augmentor = augmentor\n",
    "    self.image_size = image_size\n",
    "    self.preprocess_function = preprocess_function\n",
    "    self.save_dir = save_dir\n",
    "\n",
    "  def __len__(self):\n",
    "    return int(np.ceil(len(self.labels) / self.batch_size))\n",
    "\n",
    "  def __getitem__(self, index):\n",
    "    start = index * self.batch_size\n",
    "    stop = (index + 1) * self.batch_size\n",
    "    batch_images_path = self.images_path[start:stop]\n",
    "    batch_labels = self.labels[start:stop]\n",
    "\n",
    "    batch_images = np.zeros((batch_images_path.shape[0], self.image_size, self.image_size, 3), dtype=np.float32)\n",
    "\n",
    "    for (image_path, label) in zip(batch_images_path, batch_labels):\n",
    "      for i in range(10):\n",
    "        # 여기에다가 for문 쓰면 증강 횟수 정할 수 있음\n",
    "        # 데이터 증강\n",
    "        image = cv2.imread(image_path)\n",
    "        if self.augmentor is not None:\n",
    "          image = self.augmentor(image=image)['image']\n",
    "\n",
    "        image = cv2.resize(image, (self.image_size, self.image_size))\n",
    "        # 스케일링\n",
    "        if self.preprocess_function is not None:\n",
    "          image = self.preprocess_function(image)\n",
    "\n",
    "        batch_images[i]=image\n",
    "\n",
    "    return (batch_images, batch_labels) if self.labels is not None else batch_images"
   ]
  },
  {
   "metadata": {
    "id": "BIvtj8rqR1PR",
    "executionInfo": {
     "status": "ok",
     "timestamp": 1732599552307,
     "user_tz": -540,
     "elapsed": 149074,
     "user": {
      "displayName": "챈콩이",
      "userId": "00781481841991263062"
     }
    },
    "colab": {
     "base_uri": "https://localhost:8080/"
    },
    "outputId": "509e1a40-17c3-4144-851a-dda4847c5e80"
   },
   "cell_type": "code",
   "source": [
    "#@title image augment 생성\n",
    "import albumentations as A\n",
    "from tensorflow.keras.applications.vgg16 import preprocess_input\n",
    "\n",
    "augmentor = A.Compose([\n",
    "    A.ShiftScaleRotate(shift_limit=0.1, p=1),\n",
    "    A.HorizontalFlip(p=1),\n",
    "    A.VerticalFlip(p=0.3),\n",
    "    A.ShiftScaleRotate(\n",
    "      rotate_limit=45,\n",
    "      p=0.5),\n",
    "])\n",
    "\n",
    "save_dir='cloud/cloud_aug'\n",
    "\n",
    "# train data에 대해서만 augmentation 적용\n",
    "cloud_seq = CloudAugSequence(train_images_path, train_labels,preprocess_function=preprocess_input, augmentor=augmentor, save_dir=save_dir)\n",
    "\n",
    "# sequence 객체는 호출되어야 생성됨 !\n",
    "# 저장을 위해 for문 한번 돌리기 > for문 안에서 알아서 next호출\n",
    "for i in range(len(cloud_seq)):\n",
    "  batch_images, batch_labels = cloud_seq[i]\n",
    "  print(batch_images.shape, batch_labels.shape)"
   ],
   "outputs": [],
   "execution_count": null
  },
  {
   "metadata": {
    "colab": {
     "base_uri": "https://localhost:8080/"
    },
    "id": "ZGWQA02xbqSa",
    "executionInfo": {
     "status": "ok",
     "timestamp": 1732599132000,
     "user_tz": -540,
     "elapsed": 251,
     "user": {
      "displayName": "허채연/학생/인공지능공학",
      "userId": "06003063200904167502"
     }
    },
    "outputId": "54b5924f-8718-4ca0-cea2-94a746c464a6"
   },
   "cell_type": "code",
   "outputs": [
    {
     "output_type": "stream",
     "name": "stdout",
     "text": [
      "(0,) (0,)\n",
      "[]\n"
     ]
    }
   ],
   "execution_count": null,
   "source": [
    "#@title DataLoad (cloud/cloud_aug/train)\n",
    "import numpy as np\n",
    "def load_aug_data(base_dir='cloud/cloud_aug'):\n",
    "  images_path=[]\n",
    "  labels=[]\n",
    "  for class_name in os.listdir(base_dir):\n",
    "    class_name_path = os.path.join(base_dir, class_name)\n",
    "\n",
    "    # 디렉토리인 경우만\n",
    "    if os.path.isdir(class_name_path):\n",
    "      for image_name in os.listdir(class_name_path):\n",
    "        image_path = os.path.join(class_name_path, image_name)\n",
    "        images_path.append(image_path)\n",
    "        labels.append(class_name)\n",
    "\n",
    "  return np.array(images_path), np.array(labels)\n",
    "\n",
    "train_images_path, train_labels = load_aug_data()\n",
    "print(images_path.shape, labels.shape)\n",
    "print(np.unique(labels))"
   ]
  },
  {
   "cell_type": "code",
   "source": [
    "#@title label에 대해 label_encoding\n",
    "from sklearn.preprocessing import LabelEncoder\n",
    "\n",
    "label_encoder = LabelEncoder()\n",
    "train_labels = label_encoder.fit_transform(train_labels)\n",
    "train_labels = np.array(train_labels, dtype='int32')\n",
    "print(np.unique(train_labels))\n",
    "print(train_labels.dtype)\n",
    "\n",
    "val_labels = label_encoder.transform(val_labels)\n",
    "val_labels = np.array(val_labels, dtype='int32')\n",
    "print(np.unique(val_labels))\n",
    "print(val_labels.dtype)"
   ],
   "metadata": {
    "colab": {
     "base_uri": "https://localhost:8080/"
    },
    "id": "tNFVv20TeycV",
    "executionInfo": {
     "status": "ok",
     "timestamp": 1732591196105,
     "user_tz": -540,
     "elapsed": 361,
     "user": {
      "displayName": "챈콩이",
      "userId": "00781481841991263062"
     }
    },
    "outputId": "39867d87-7ce6-4754-f60d-874861fa798e"
   },
   "execution_count": null,
   "outputs": [
    {
     "output_type": "stream",
     "name": "stdout",
     "text": [
      "[ 0  1  2  3  4  5  6  7  8  9 10]\n",
      "int32\n",
      "[ 0  1  2  3  4  5  6  7  8  9 10]\n",
      "int32\n"
     ]
    }
   ]
  },
  {
   "metadata": {},
   "cell_type": "code",
   "outputs": [],
   "execution_count": null,
   "source": [
    "#@title Data_Augmentation (sequence class 정의)\n",
    "\n",
    "from sklearn.preprocessing import LabelEncoder\n",
    "from tensorflow.keras.utils import Sequence\n",
    "from sklearn.utils import shuffle\n",
    "import cv2\n",
    "import matplotlib.pyplot as plt\n",
    "import albumentations as A\n",
    "\n",
    "BATCH_SIZE = 32\n",
    "IMAGE_SIZE = 224\n",
    "\n",
    "# image read를 위한 sequence\n",
    "class CloudSequence(Sequence):\n",
    "  def __init__(self, images_path, labels, batch_size=BATCH_SIZE,\n",
    "               image_size=IMAGE_SIZE, preprocess_function=None):\n",
    "    self.images_path = images_path\n",
    "    self.labels = labels\n",
    "    self.batch_size = batch_size\n",
    "    self.image_size = image_size\n",
    "    self.preprocess_function = preprocess_function\n",
    "\n",
    "  def __len__(self):\n",
    "    return int(np.ceil(len(self.labels) / self.batch_size))\n",
    "\n",
    "  def __getitem__(self, index):\n",
    "    start = index * self.batch_size\n",
    "    stop = (index + 1) * self.batch_size\n",
    "    batch_images_path = self.images_path[start:stop]\n",
    "    batch_labels = self.labels[start:stop]\n",
    "\n",
    "    batch_images = np.zeros((batch_images_path.shape[0], self.image_size, self.image_size, 3), dtype=np.float32)\n",
    "\n",
    "    for (image_path, label) in zip(batch_images_path, batch_labels):\n",
    "      image = cv2.imread(image_path)\n",
    "      image = cv2.resize(image, (self.image_size, self.image_size))\n",
    "      # 스케일링\n",
    "      if self.preprocess_function is not None:\n",
    "        image = self.preprocess_function(image)\n",
    "      batch_images[i]=image\n",
    "\n",
    "    return (batch_images, batch_labels) if self.labels is not None else batch_images"
   ]
  },
  {
   "cell_type": "code",
   "source": [
    " #@title VGG16 model transfer learning\n",
    "from tensorflow.keras.applications import VGG16\n",
    "from tensorflow.keras.layers import GlobalAveragePooling2D, Dense, Dropout,Flatten\n",
    "from tensorflow.keras.models import Model\n",
    "\n",
    "base_model = VGG16(input_shape=(64, 64, 3), include_top=False, weights='imagenet')\n",
    "x = base_model.output\n",
    "x = Flatten()(x)\n",
    "x = Dense(256, activation='relu')(x)\n",
    "x = Dropout(0.5)(x)\n",
    "output = Dense(11, activation='softmax')(x)  # 분류클래스 (0~10 : 11개)\n",
    "\n",
    "model = Model(inputs=base_model.input, outputs=output)\n",
    "\n",
    "model.summary()"
   ],
   "metadata": {
    "colab": {
     "base_uri": "https://localhost:8080/",
     "height": 865
    },
    "id": "YAL3flJMUY9z",
    "executionInfo": {
     "status": "ok",
     "timestamp": 1732591198639,
     "user_tz": -540,
     "elapsed": 594,
     "user": {
      "displayName": "챈콩이",
      "userId": "00781481841991263062"
     }
    },
    "outputId": "92947b46-44ed-4ad5-8cac-26fe26b5691f"
   },
   "execution_count": null,
   "outputs": [
    {
     "output_type": "display_data",
     "data": {
      "text/plain": [
       "\u001B[1mModel: \"functional_1\"\u001B[0m\n"
      ],
      "text/html": [
       "<pre style=\"white-space:pre;overflow-x:auto;line-height:normal;font-family:Menlo,'DejaVu Sans Mono',consolas,'Courier New',monospace\"><span style=\"font-weight: bold\">Model: \"functional_1\"</span>\n",
       "</pre>\n"
      ]
     },
     "metadata": {}
    },
    {
     "output_type": "display_data",
     "data": {
      "text/plain": [
       "┏━━━━━━━━━━━━━━━━━━━━━━━━━━━━━━━━━━━━━━┳━━━━━━━━━━━━━━━━━━━━━━━━━━━━━┳━━━━━━━━━━━━━━━━━┓\n",
       "┃\u001B[1m \u001B[0m\u001B[1mLayer (type)                        \u001B[0m\u001B[1m \u001B[0m┃\u001B[1m \u001B[0m\u001B[1mOutput Shape               \u001B[0m\u001B[1m \u001B[0m┃\u001B[1m \u001B[0m\u001B[1m        Param #\u001B[0m\u001B[1m \u001B[0m┃\n",
       "┡━━━━━━━━━━━━━━━━━━━━━━━━━━━━━━━━━━━━━━╇━━━━━━━━━━━━━━━━━━━━━━━━━━━━━╇━━━━━━━━━━━━━━━━━┩\n",
       "│ input_layer_1 (\u001B[38;5;33mInputLayer\u001B[0m)           │ (\u001B[38;5;45mNone\u001B[0m, \u001B[38;5;34m64\u001B[0m, \u001B[38;5;34m64\u001B[0m, \u001B[38;5;34m3\u001B[0m)           │               \u001B[38;5;34m0\u001B[0m │\n",
       "├──────────────────────────────────────┼─────────────────────────────┼─────────────────┤\n",
       "│ block1_conv1 (\u001B[38;5;33mConv2D\u001B[0m)                │ (\u001B[38;5;45mNone\u001B[0m, \u001B[38;5;34m64\u001B[0m, \u001B[38;5;34m64\u001B[0m, \u001B[38;5;34m64\u001B[0m)          │           \u001B[38;5;34m1,792\u001B[0m │\n",
       "├──────────────────────────────────────┼─────────────────────────────┼─────────────────┤\n",
       "│ block1_conv2 (\u001B[38;5;33mConv2D\u001B[0m)                │ (\u001B[38;5;45mNone\u001B[0m, \u001B[38;5;34m64\u001B[0m, \u001B[38;5;34m64\u001B[0m, \u001B[38;5;34m64\u001B[0m)          │          \u001B[38;5;34m36,928\u001B[0m │\n",
       "├──────────────────────────────────────┼─────────────────────────────┼─────────────────┤\n",
       "│ block1_pool (\u001B[38;5;33mMaxPooling2D\u001B[0m)           │ (\u001B[38;5;45mNone\u001B[0m, \u001B[38;5;34m32\u001B[0m, \u001B[38;5;34m32\u001B[0m, \u001B[38;5;34m64\u001B[0m)          │               \u001B[38;5;34m0\u001B[0m │\n",
       "├──────────────────────────────────────┼─────────────────────────────┼─────────────────┤\n",
       "│ block2_conv1 (\u001B[38;5;33mConv2D\u001B[0m)                │ (\u001B[38;5;45mNone\u001B[0m, \u001B[38;5;34m32\u001B[0m, \u001B[38;5;34m32\u001B[0m, \u001B[38;5;34m128\u001B[0m)         │          \u001B[38;5;34m73,856\u001B[0m │\n",
       "├──────────────────────────────────────┼─────────────────────────────┼─────────────────┤\n",
       "│ block2_conv2 (\u001B[38;5;33mConv2D\u001B[0m)                │ (\u001B[38;5;45mNone\u001B[0m, \u001B[38;5;34m32\u001B[0m, \u001B[38;5;34m32\u001B[0m, \u001B[38;5;34m128\u001B[0m)         │         \u001B[38;5;34m147,584\u001B[0m │\n",
       "├──────────────────────────────────────┼─────────────────────────────┼─────────────────┤\n",
       "│ block2_pool (\u001B[38;5;33mMaxPooling2D\u001B[0m)           │ (\u001B[38;5;45mNone\u001B[0m, \u001B[38;5;34m16\u001B[0m, \u001B[38;5;34m16\u001B[0m, \u001B[38;5;34m128\u001B[0m)         │               \u001B[38;5;34m0\u001B[0m │\n",
       "├──────────────────────────────────────┼─────────────────────────────┼─────────────────┤\n",
       "│ block3_conv1 (\u001B[38;5;33mConv2D\u001B[0m)                │ (\u001B[38;5;45mNone\u001B[0m, \u001B[38;5;34m16\u001B[0m, \u001B[38;5;34m16\u001B[0m, \u001B[38;5;34m256\u001B[0m)         │         \u001B[38;5;34m295,168\u001B[0m │\n",
       "├──────────────────────────────────────┼─────────────────────────────┼─────────────────┤\n",
       "│ block3_conv2 (\u001B[38;5;33mConv2D\u001B[0m)                │ (\u001B[38;5;45mNone\u001B[0m, \u001B[38;5;34m16\u001B[0m, \u001B[38;5;34m16\u001B[0m, \u001B[38;5;34m256\u001B[0m)         │         \u001B[38;5;34m590,080\u001B[0m │\n",
       "├──────────────────────────────────────┼─────────────────────────────┼─────────────────┤\n",
       "│ block3_conv3 (\u001B[38;5;33mConv2D\u001B[0m)                │ (\u001B[38;5;45mNone\u001B[0m, \u001B[38;5;34m16\u001B[0m, \u001B[38;5;34m16\u001B[0m, \u001B[38;5;34m256\u001B[0m)         │         \u001B[38;5;34m590,080\u001B[0m │\n",
       "├──────────────────────────────────────┼─────────────────────────────┼─────────────────┤\n",
       "│ block3_pool (\u001B[38;5;33mMaxPooling2D\u001B[0m)           │ (\u001B[38;5;45mNone\u001B[0m, \u001B[38;5;34m8\u001B[0m, \u001B[38;5;34m8\u001B[0m, \u001B[38;5;34m256\u001B[0m)           │               \u001B[38;5;34m0\u001B[0m │\n",
       "├──────────────────────────────────────┼─────────────────────────────┼─────────────────┤\n",
       "│ block4_conv1 (\u001B[38;5;33mConv2D\u001B[0m)                │ (\u001B[38;5;45mNone\u001B[0m, \u001B[38;5;34m8\u001B[0m, \u001B[38;5;34m8\u001B[0m, \u001B[38;5;34m512\u001B[0m)           │       \u001B[38;5;34m1,180,160\u001B[0m │\n",
       "├──────────────────────────────────────┼─────────────────────────────┼─────────────────┤\n",
       "│ block4_conv2 (\u001B[38;5;33mConv2D\u001B[0m)                │ (\u001B[38;5;45mNone\u001B[0m, \u001B[38;5;34m8\u001B[0m, \u001B[38;5;34m8\u001B[0m, \u001B[38;5;34m512\u001B[0m)           │       \u001B[38;5;34m2,359,808\u001B[0m │\n",
       "├──────────────────────────────────────┼─────────────────────────────┼─────────────────┤\n",
       "│ block4_conv3 (\u001B[38;5;33mConv2D\u001B[0m)                │ (\u001B[38;5;45mNone\u001B[0m, \u001B[38;5;34m8\u001B[0m, \u001B[38;5;34m8\u001B[0m, \u001B[38;5;34m512\u001B[0m)           │       \u001B[38;5;34m2,359,808\u001B[0m │\n",
       "├──────────────────────────────────────┼─────────────────────────────┼─────────────────┤\n",
       "│ block4_pool (\u001B[38;5;33mMaxPooling2D\u001B[0m)           │ (\u001B[38;5;45mNone\u001B[0m, \u001B[38;5;34m4\u001B[0m, \u001B[38;5;34m4\u001B[0m, \u001B[38;5;34m512\u001B[0m)           │               \u001B[38;5;34m0\u001B[0m │\n",
       "├──────────────────────────────────────┼─────────────────────────────┼─────────────────┤\n",
       "│ block5_conv1 (\u001B[38;5;33mConv2D\u001B[0m)                │ (\u001B[38;5;45mNone\u001B[0m, \u001B[38;5;34m4\u001B[0m, \u001B[38;5;34m4\u001B[0m, \u001B[38;5;34m512\u001B[0m)           │       \u001B[38;5;34m2,359,808\u001B[0m │\n",
       "├──────────────────────────────────────┼─────────────────────────────┼─────────────────┤\n",
       "│ block5_conv2 (\u001B[38;5;33mConv2D\u001B[0m)                │ (\u001B[38;5;45mNone\u001B[0m, \u001B[38;5;34m4\u001B[0m, \u001B[38;5;34m4\u001B[0m, \u001B[38;5;34m512\u001B[0m)           │       \u001B[38;5;34m2,359,808\u001B[0m │\n",
       "├──────────────────────────────────────┼─────────────────────────────┼─────────────────┤\n",
       "│ block5_conv3 (\u001B[38;5;33mConv2D\u001B[0m)                │ (\u001B[38;5;45mNone\u001B[0m, \u001B[38;5;34m4\u001B[0m, \u001B[38;5;34m4\u001B[0m, \u001B[38;5;34m512\u001B[0m)           │       \u001B[38;5;34m2,359,808\u001B[0m │\n",
       "├──────────────────────────────────────┼─────────────────────────────┼─────────────────┤\n",
       "│ block5_pool (\u001B[38;5;33mMaxPooling2D\u001B[0m)           │ (\u001B[38;5;45mNone\u001B[0m, \u001B[38;5;34m2\u001B[0m, \u001B[38;5;34m2\u001B[0m, \u001B[38;5;34m512\u001B[0m)           │               \u001B[38;5;34m0\u001B[0m │\n",
       "├──────────────────────────────────────┼─────────────────────────────┼─────────────────┤\n",
       "│ flatten_1 (\u001B[38;5;33mFlatten\u001B[0m)                  │ (\u001B[38;5;45mNone\u001B[0m, \u001B[38;5;34m2048\u001B[0m)                │               \u001B[38;5;34m0\u001B[0m │\n",
       "├──────────────────────────────────────┼─────────────────────────────┼─────────────────┤\n",
       "│ dense_2 (\u001B[38;5;33mDense\u001B[0m)                      │ (\u001B[38;5;45mNone\u001B[0m, \u001B[38;5;34m256\u001B[0m)                 │         \u001B[38;5;34m524,544\u001B[0m │\n",
       "├──────────────────────────────────────┼─────────────────────────────┼─────────────────┤\n",
       "│ dropout_1 (\u001B[38;5;33mDropout\u001B[0m)                  │ (\u001B[38;5;45mNone\u001B[0m, \u001B[38;5;34m256\u001B[0m)                 │               \u001B[38;5;34m0\u001B[0m │\n",
       "├──────────────────────────────────────┼─────────────────────────────┼─────────────────┤\n",
       "│ dense_3 (\u001B[38;5;33mDense\u001B[0m)                      │ (\u001B[38;5;45mNone\u001B[0m, \u001B[38;5;34m11\u001B[0m)                  │           \u001B[38;5;34m2,827\u001B[0m │\n",
       "└──────────────────────────────────────┴─────────────────────────────┴─────────────────┘\n"
      ],
      "text/html": [
       "<pre style=\"white-space:pre;overflow-x:auto;line-height:normal;font-family:Menlo,'DejaVu Sans Mono',consolas,'Courier New',monospace\">┏━━━━━━━━━━━━━━━━━━━━━━━━━━━━━━━━━━━━━━┳━━━━━━━━━━━━━━━━━━━━━━━━━━━━━┳━━━━━━━━━━━━━━━━━┓\n",
       "┃<span style=\"font-weight: bold\"> Layer (type)                         </span>┃<span style=\"font-weight: bold\"> Output Shape                </span>┃<span style=\"font-weight: bold\">         Param # </span>┃\n",
       "┡━━━━━━━━━━━━━━━━━━━━━━━━━━━━━━━━━━━━━━╇━━━━━━━━━━━━━━━━━━━━━━━━━━━━━╇━━━━━━━━━━━━━━━━━┩\n",
       "│ input_layer_1 (<span style=\"color: #0087ff; text-decoration-color: #0087ff\">InputLayer</span>)           │ (<span style=\"color: #00d7ff; text-decoration-color: #00d7ff\">None</span>, <span style=\"color: #00af00; text-decoration-color: #00af00\">64</span>, <span style=\"color: #00af00; text-decoration-color: #00af00\">64</span>, <span style=\"color: #00af00; text-decoration-color: #00af00\">3</span>)           │               <span style=\"color: #00af00; text-decoration-color: #00af00\">0</span> │\n",
       "├──────────────────────────────────────┼─────────────────────────────┼─────────────────┤\n",
       "│ block1_conv1 (<span style=\"color: #0087ff; text-decoration-color: #0087ff\">Conv2D</span>)                │ (<span style=\"color: #00d7ff; text-decoration-color: #00d7ff\">None</span>, <span style=\"color: #00af00; text-decoration-color: #00af00\">64</span>, <span style=\"color: #00af00; text-decoration-color: #00af00\">64</span>, <span style=\"color: #00af00; text-decoration-color: #00af00\">64</span>)          │           <span style=\"color: #00af00; text-decoration-color: #00af00\">1,792</span> │\n",
       "├──────────────────────────────────────┼─────────────────────────────┼─────────────────┤\n",
       "│ block1_conv2 (<span style=\"color: #0087ff; text-decoration-color: #0087ff\">Conv2D</span>)                │ (<span style=\"color: #00d7ff; text-decoration-color: #00d7ff\">None</span>, <span style=\"color: #00af00; text-decoration-color: #00af00\">64</span>, <span style=\"color: #00af00; text-decoration-color: #00af00\">64</span>, <span style=\"color: #00af00; text-decoration-color: #00af00\">64</span>)          │          <span style=\"color: #00af00; text-decoration-color: #00af00\">36,928</span> │\n",
       "├──────────────────────────────────────┼─────────────────────────────┼─────────────────┤\n",
       "│ block1_pool (<span style=\"color: #0087ff; text-decoration-color: #0087ff\">MaxPooling2D</span>)           │ (<span style=\"color: #00d7ff; text-decoration-color: #00d7ff\">None</span>, <span style=\"color: #00af00; text-decoration-color: #00af00\">32</span>, <span style=\"color: #00af00; text-decoration-color: #00af00\">32</span>, <span style=\"color: #00af00; text-decoration-color: #00af00\">64</span>)          │               <span style=\"color: #00af00; text-decoration-color: #00af00\">0</span> │\n",
       "├──────────────────────────────────────┼─────────────────────────────┼─────────────────┤\n",
       "│ block2_conv1 (<span style=\"color: #0087ff; text-decoration-color: #0087ff\">Conv2D</span>)                │ (<span style=\"color: #00d7ff; text-decoration-color: #00d7ff\">None</span>, <span style=\"color: #00af00; text-decoration-color: #00af00\">32</span>, <span style=\"color: #00af00; text-decoration-color: #00af00\">32</span>, <span style=\"color: #00af00; text-decoration-color: #00af00\">128</span>)         │          <span style=\"color: #00af00; text-decoration-color: #00af00\">73,856</span> │\n",
       "├──────────────────────────────────────┼─────────────────────────────┼─────────────────┤\n",
       "│ block2_conv2 (<span style=\"color: #0087ff; text-decoration-color: #0087ff\">Conv2D</span>)                │ (<span style=\"color: #00d7ff; text-decoration-color: #00d7ff\">None</span>, <span style=\"color: #00af00; text-decoration-color: #00af00\">32</span>, <span style=\"color: #00af00; text-decoration-color: #00af00\">32</span>, <span style=\"color: #00af00; text-decoration-color: #00af00\">128</span>)         │         <span style=\"color: #00af00; text-decoration-color: #00af00\">147,584</span> │\n",
       "├──────────────────────────────────────┼─────────────────────────────┼─────────────────┤\n",
       "│ block2_pool (<span style=\"color: #0087ff; text-decoration-color: #0087ff\">MaxPooling2D</span>)           │ (<span style=\"color: #00d7ff; text-decoration-color: #00d7ff\">None</span>, <span style=\"color: #00af00; text-decoration-color: #00af00\">16</span>, <span style=\"color: #00af00; text-decoration-color: #00af00\">16</span>, <span style=\"color: #00af00; text-decoration-color: #00af00\">128</span>)         │               <span style=\"color: #00af00; text-decoration-color: #00af00\">0</span> │\n",
       "├──────────────────────────────────────┼─────────────────────────────┼─────────────────┤\n",
       "│ block3_conv1 (<span style=\"color: #0087ff; text-decoration-color: #0087ff\">Conv2D</span>)                │ (<span style=\"color: #00d7ff; text-decoration-color: #00d7ff\">None</span>, <span style=\"color: #00af00; text-decoration-color: #00af00\">16</span>, <span style=\"color: #00af00; text-decoration-color: #00af00\">16</span>, <span style=\"color: #00af00; text-decoration-color: #00af00\">256</span>)         │         <span style=\"color: #00af00; text-decoration-color: #00af00\">295,168</span> │\n",
       "├──────────────────────────────────────┼─────────────────────────────┼─────────────────┤\n",
       "│ block3_conv2 (<span style=\"color: #0087ff; text-decoration-color: #0087ff\">Conv2D</span>)                │ (<span style=\"color: #00d7ff; text-decoration-color: #00d7ff\">None</span>, <span style=\"color: #00af00; text-decoration-color: #00af00\">16</span>, <span style=\"color: #00af00; text-decoration-color: #00af00\">16</span>, <span style=\"color: #00af00; text-decoration-color: #00af00\">256</span>)         │         <span style=\"color: #00af00; text-decoration-color: #00af00\">590,080</span> │\n",
       "├──────────────────────────────────────┼─────────────────────────────┼─────────────────┤\n",
       "│ block3_conv3 (<span style=\"color: #0087ff; text-decoration-color: #0087ff\">Conv2D</span>)                │ (<span style=\"color: #00d7ff; text-decoration-color: #00d7ff\">None</span>, <span style=\"color: #00af00; text-decoration-color: #00af00\">16</span>, <span style=\"color: #00af00; text-decoration-color: #00af00\">16</span>, <span style=\"color: #00af00; text-decoration-color: #00af00\">256</span>)         │         <span style=\"color: #00af00; text-decoration-color: #00af00\">590,080</span> │\n",
       "├──────────────────────────────────────┼─────────────────────────────┼─────────────────┤\n",
       "│ block3_pool (<span style=\"color: #0087ff; text-decoration-color: #0087ff\">MaxPooling2D</span>)           │ (<span style=\"color: #00d7ff; text-decoration-color: #00d7ff\">None</span>, <span style=\"color: #00af00; text-decoration-color: #00af00\">8</span>, <span style=\"color: #00af00; text-decoration-color: #00af00\">8</span>, <span style=\"color: #00af00; text-decoration-color: #00af00\">256</span>)           │               <span style=\"color: #00af00; text-decoration-color: #00af00\">0</span> │\n",
       "├──────────────────────────────────────┼─────────────────────────────┼─────────────────┤\n",
       "│ block4_conv1 (<span style=\"color: #0087ff; text-decoration-color: #0087ff\">Conv2D</span>)                │ (<span style=\"color: #00d7ff; text-decoration-color: #00d7ff\">None</span>, <span style=\"color: #00af00; text-decoration-color: #00af00\">8</span>, <span style=\"color: #00af00; text-decoration-color: #00af00\">8</span>, <span style=\"color: #00af00; text-decoration-color: #00af00\">512</span>)           │       <span style=\"color: #00af00; text-decoration-color: #00af00\">1,180,160</span> │\n",
       "├──────────────────────────────────────┼─────────────────────────────┼─────────────────┤\n",
       "│ block4_conv2 (<span style=\"color: #0087ff; text-decoration-color: #0087ff\">Conv2D</span>)                │ (<span style=\"color: #00d7ff; text-decoration-color: #00d7ff\">None</span>, <span style=\"color: #00af00; text-decoration-color: #00af00\">8</span>, <span style=\"color: #00af00; text-decoration-color: #00af00\">8</span>, <span style=\"color: #00af00; text-decoration-color: #00af00\">512</span>)           │       <span style=\"color: #00af00; text-decoration-color: #00af00\">2,359,808</span> │\n",
       "├──────────────────────────────────────┼─────────────────────────────┼─────────────────┤\n",
       "│ block4_conv3 (<span style=\"color: #0087ff; text-decoration-color: #0087ff\">Conv2D</span>)                │ (<span style=\"color: #00d7ff; text-decoration-color: #00d7ff\">None</span>, <span style=\"color: #00af00; text-decoration-color: #00af00\">8</span>, <span style=\"color: #00af00; text-decoration-color: #00af00\">8</span>, <span style=\"color: #00af00; text-decoration-color: #00af00\">512</span>)           │       <span style=\"color: #00af00; text-decoration-color: #00af00\">2,359,808</span> │\n",
       "├──────────────────────────────────────┼─────────────────────────────┼─────────────────┤\n",
       "│ block4_pool (<span style=\"color: #0087ff; text-decoration-color: #0087ff\">MaxPooling2D</span>)           │ (<span style=\"color: #00d7ff; text-decoration-color: #00d7ff\">None</span>, <span style=\"color: #00af00; text-decoration-color: #00af00\">4</span>, <span style=\"color: #00af00; text-decoration-color: #00af00\">4</span>, <span style=\"color: #00af00; text-decoration-color: #00af00\">512</span>)           │               <span style=\"color: #00af00; text-decoration-color: #00af00\">0</span> │\n",
       "├──────────────────────────────────────┼─────────────────────────────┼─────────────────┤\n",
       "│ block5_conv1 (<span style=\"color: #0087ff; text-decoration-color: #0087ff\">Conv2D</span>)                │ (<span style=\"color: #00d7ff; text-decoration-color: #00d7ff\">None</span>, <span style=\"color: #00af00; text-decoration-color: #00af00\">4</span>, <span style=\"color: #00af00; text-decoration-color: #00af00\">4</span>, <span style=\"color: #00af00; text-decoration-color: #00af00\">512</span>)           │       <span style=\"color: #00af00; text-decoration-color: #00af00\">2,359,808</span> │\n",
       "├──────────────────────────────────────┼─────────────────────────────┼─────────────────┤\n",
       "│ block5_conv2 (<span style=\"color: #0087ff; text-decoration-color: #0087ff\">Conv2D</span>)                │ (<span style=\"color: #00d7ff; text-decoration-color: #00d7ff\">None</span>, <span style=\"color: #00af00; text-decoration-color: #00af00\">4</span>, <span style=\"color: #00af00; text-decoration-color: #00af00\">4</span>, <span style=\"color: #00af00; text-decoration-color: #00af00\">512</span>)           │       <span style=\"color: #00af00; text-decoration-color: #00af00\">2,359,808</span> │\n",
       "├──────────────────────────────────────┼─────────────────────────────┼─────────────────┤\n",
       "│ block5_conv3 (<span style=\"color: #0087ff; text-decoration-color: #0087ff\">Conv2D</span>)                │ (<span style=\"color: #00d7ff; text-decoration-color: #00d7ff\">None</span>, <span style=\"color: #00af00; text-decoration-color: #00af00\">4</span>, <span style=\"color: #00af00; text-decoration-color: #00af00\">4</span>, <span style=\"color: #00af00; text-decoration-color: #00af00\">512</span>)           │       <span style=\"color: #00af00; text-decoration-color: #00af00\">2,359,808</span> │\n",
       "├──────────────────────────────────────┼─────────────────────────────┼─────────────────┤\n",
       "│ block5_pool (<span style=\"color: #0087ff; text-decoration-color: #0087ff\">MaxPooling2D</span>)           │ (<span style=\"color: #00d7ff; text-decoration-color: #00d7ff\">None</span>, <span style=\"color: #00af00; text-decoration-color: #00af00\">2</span>, <span style=\"color: #00af00; text-decoration-color: #00af00\">2</span>, <span style=\"color: #00af00; text-decoration-color: #00af00\">512</span>)           │               <span style=\"color: #00af00; text-decoration-color: #00af00\">0</span> │\n",
       "├──────────────────────────────────────┼─────────────────────────────┼─────────────────┤\n",
       "│ flatten_1 (<span style=\"color: #0087ff; text-decoration-color: #0087ff\">Flatten</span>)                  │ (<span style=\"color: #00d7ff; text-decoration-color: #00d7ff\">None</span>, <span style=\"color: #00af00; text-decoration-color: #00af00\">2048</span>)                │               <span style=\"color: #00af00; text-decoration-color: #00af00\">0</span> │\n",
       "├──────────────────────────────────────┼─────────────────────────────┼─────────────────┤\n",
       "│ dense_2 (<span style=\"color: #0087ff; text-decoration-color: #0087ff\">Dense</span>)                      │ (<span style=\"color: #00d7ff; text-decoration-color: #00d7ff\">None</span>, <span style=\"color: #00af00; text-decoration-color: #00af00\">256</span>)                 │         <span style=\"color: #00af00; text-decoration-color: #00af00\">524,544</span> │\n",
       "├──────────────────────────────────────┼─────────────────────────────┼─────────────────┤\n",
       "│ dropout_1 (<span style=\"color: #0087ff; text-decoration-color: #0087ff\">Dropout</span>)                  │ (<span style=\"color: #00d7ff; text-decoration-color: #00d7ff\">None</span>, <span style=\"color: #00af00; text-decoration-color: #00af00\">256</span>)                 │               <span style=\"color: #00af00; text-decoration-color: #00af00\">0</span> │\n",
       "├──────────────────────────────────────┼─────────────────────────────┼─────────────────┤\n",
       "│ dense_3 (<span style=\"color: #0087ff; text-decoration-color: #0087ff\">Dense</span>)                      │ (<span style=\"color: #00d7ff; text-decoration-color: #00d7ff\">None</span>, <span style=\"color: #00af00; text-decoration-color: #00af00\">11</span>)                  │           <span style=\"color: #00af00; text-decoration-color: #00af00\">2,827</span> │\n",
       "└──────────────────────────────────────┴─────────────────────────────┴─────────────────┘\n",
       "</pre>\n"
      ]
     },
     "metadata": {}
    },
    {
     "output_type": "display_data",
     "data": {
      "text/plain": [
       "\u001B[1m Total params: \u001B[0m\u001B[38;5;34m15,242,059\u001B[0m (58.14 MB)\n"
      ],
      "text/html": [
       "<pre style=\"white-space:pre;overflow-x:auto;line-height:normal;font-family:Menlo,'DejaVu Sans Mono',consolas,'Courier New',monospace\"><span style=\"font-weight: bold\"> Total params: </span><span style=\"color: #00af00; text-decoration-color: #00af00\">15,242,059</span> (58.14 MB)\n",
       "</pre>\n"
      ]
     },
     "metadata": {}
    },
    {
     "output_type": "display_data",
     "data": {
      "text/plain": [
       "\u001B[1m Trainable params: \u001B[0m\u001B[38;5;34m15,242,059\u001B[0m (58.14 MB)\n"
      ],
      "text/html": [
       "<pre style=\"white-space:pre;overflow-x:auto;line-height:normal;font-family:Menlo,'DejaVu Sans Mono',consolas,'Courier New',monospace\"><span style=\"font-weight: bold\"> Trainable params: </span><span style=\"color: #00af00; text-decoration-color: #00af00\">15,242,059</span> (58.14 MB)\n",
       "</pre>\n"
      ]
     },
     "metadata": {}
    },
    {
     "output_type": "display_data",
     "data": {
      "text/plain": [
       "\u001B[1m Non-trainable params: \u001B[0m\u001B[38;5;34m0\u001B[0m (0.00 B)\n"
      ],
      "text/html": [
       "<pre style=\"white-space:pre;overflow-x:auto;line-height:normal;font-family:Menlo,'DejaVu Sans Mono',consolas,'Courier New',monospace\"><span style=\"font-weight: bold\"> Non-trainable params: </span><span style=\"color: #00af00; text-decoration-color: #00af00\">0</span> (0.00 B)\n",
       "</pre>\n"
      ]
     },
     "metadata": {}
    }
   ]
  },
  {
   "cell_type": "code",
   "source": [
    "#@title model compile\n",
    "from tensorflow.keras.callbacks import EarlyStopping, ReduceLROnPlateau\n",
    "\n",
    "model.compile(loss=\"sparse_categorical_crossentropy\",\n",
    "              optimizer='adam',\n",
    "              metrics=[\"accuracy\"])\n",
    "\n",
    "\n",
    "early_stopping_cb = EarlyStopping(patience=6, verbose=1, restore_best_weights=True)\n",
    "reduce_lr_on_plateau_cb = ReduceLROnPlateau(patience=3, factor=0.5, verbose=1)"
   ],
   "metadata": {
    "id": "Pe5bY1U6Ujbq"
   },
   "execution_count": null,
   "outputs": []
  },
  {
   "cell_type": "code",
   "source": [
    "from tensorflow.keras.applications.vgg16 import preprocess_input\n",
    "tr_seq=CloudSequence(train_images_path, train_labels, batch_size=BATCH_SIZE,preprocess_function=preprocess_input)\n",
    "val_seq=CloudSequence(val_images_path, val_labels, batch_size=BATCH_SIZE,preprocess_function=preprocess_input)\n",
    "test_seq=CloudSequence(test_images_path, test_labels, batch_size=BATCH_SIZE,preprocess_function=preprocess_input)"
   ],
   "metadata": {
    "id": "gGjhw53lUtFm"
   },
   "execution_count": null,
   "outputs": []
  },
  {
   "cell_type": "code",
   "source": [
    "history=model.fit(tr_seq,\n",
    "              epochs=30,\n",
    "              batch_size=32,\n",
    "              validation_data=val_seq,\n",
    "              callbacks=[early_stopping_cb, reduce_lr_on_plateau_cb])"
   ],
   "metadata": {
    "colab": {
     "base_uri": "https://localhost:8080/"
    },
    "id": "UHFDwzfpUlu0",
    "executionInfo": {
     "status": "ok",
     "timestamp": 1732591313938,
     "user_tz": -540,
     "elapsed": 48775,
     "user": {
      "displayName": "챈콩이",
      "userId": "00781481841991263062"
     }
    },
    "outputId": "3313e1e3-a887-4ba2-c9b7-6dd4e9d7cf4e"
   },
   "execution_count": null,
   "outputs": [
    {
     "output_type": "stream",
     "name": "stdout",
     "text": [
      "Epoch 1/30\n",
      "\u001B[1m21/21\u001B[0m \u001B[32m━━━━━━━━━━━━━━━━━━━━\u001B[0m\u001B[37m\u001B[0m \u001B[1m25s\u001B[0m 583ms/step - accuracy: 0.0987 - loss: 3.0352 - val_accuracy: 0.0964 - val_loss: 2.4037 - learning_rate: 0.0010\n",
      "Epoch 2/30\n",
      "\u001B[1m21/21\u001B[0m \u001B[32m━━━━━━━━━━━━━━━━━━━━\u001B[0m\u001B[37m\u001B[0m \u001B[1m2s\u001B[0m 59ms/step - accuracy: 0.1363 - loss: 2.4231 - val_accuracy: 0.0964 - val_loss: 2.4158 - learning_rate: 0.0010\n",
      "Epoch 3/30\n",
      "\u001B[1m21/21\u001B[0m \u001B[32m━━━━━━━━━━━━━━━━━━━━\u001B[0m\u001B[37m\u001B[0m \u001B[1m1s\u001B[0m 62ms/step - accuracy: 0.1168 - loss: 2.4003 - val_accuracy: 0.1024 - val_loss: 2.4021 - learning_rate: 0.0010\n",
      "Epoch 4/30\n",
      "\u001B[1m21/21\u001B[0m \u001B[32m━━━━━━━━━━━━━━━━━━━━\u001B[0m\u001B[37m\u001B[0m \u001B[1m1s\u001B[0m 65ms/step - accuracy: 0.1014 - loss: 2.3933 - val_accuracy: 0.0964 - val_loss: 2.4031 - learning_rate: 0.0010\n",
      "Epoch 5/30\n",
      "\u001B[1m21/21\u001B[0m \u001B[32m━━━━━━━━━━━━━━━━━━━━\u001B[0m\u001B[37m\u001B[0m \u001B[1m1s\u001B[0m 68ms/step - accuracy: 0.1192 - loss: 2.3789 - val_accuracy: 0.1024 - val_loss: 2.3940 - learning_rate: 0.0010\n",
      "Epoch 6/30\n",
      "\u001B[1m21/21\u001B[0m \u001B[32m━━━━━━━━━━━━━━━━━━━━\u001B[0m\u001B[37m\u001B[0m \u001B[1m2s\u001B[0m 59ms/step - accuracy: 0.1471 - loss: 2.3834 - val_accuracy: 0.1024 - val_loss: 2.3942 - learning_rate: 0.0010\n",
      "Epoch 7/30\n",
      "\u001B[1m21/21\u001B[0m \u001B[32m━━━━━━━━━━━━━━━━━━━━\u001B[0m\u001B[37m\u001B[0m \u001B[1m1s\u001B[0m 63ms/step - accuracy: 0.1273 - loss: 2.3870 - val_accuracy: 0.1024 - val_loss: 2.3961 - learning_rate: 0.0010\n",
      "Epoch 8/30\n",
      "\u001B[1m21/21\u001B[0m \u001B[32m━━━━━━━━━━━━━━━━━━━━\u001B[0m\u001B[37m\u001B[0m \u001B[1m1s\u001B[0m 65ms/step - accuracy: 0.1243 - loss: 2.3840 - val_accuracy: 0.1024 - val_loss: 2.3933 - learning_rate: 0.0010\n",
      "Epoch 9/30\n",
      "\u001B[1m21/21\u001B[0m \u001B[32m━━━━━━━━━━━━━━━━━━━━\u001B[0m\u001B[37m\u001B[0m \u001B[1m2s\u001B[0m 61ms/step - accuracy: 0.1396 - loss: 2.3821 - val_accuracy: 0.1024 - val_loss: 2.3919 - learning_rate: 0.0010\n",
      "Epoch 10/30\n",
      "\u001B[1m21/21\u001B[0m \u001B[32m━━━━━━━━━━━━━━━━━━━━\u001B[0m\u001B[37m\u001B[0m \u001B[1m1s\u001B[0m 59ms/step - accuracy: 0.1406 - loss: 2.3752 - val_accuracy: 0.1024 - val_loss: 2.3940 - learning_rate: 0.0010\n",
      "Epoch 11/30\n",
      "\u001B[1m21/21\u001B[0m \u001B[32m━━━━━━━━━━━━━━━━━━━━\u001B[0m\u001B[37m\u001B[0m \u001B[1m1s\u001B[0m 59ms/step - accuracy: 0.1278 - loss: 2.3868 - val_accuracy: 0.1024 - val_loss: 2.3943 - learning_rate: 0.0010\n",
      "Epoch 12/30\n",
      "\u001B[1m20/21\u001B[0m \u001B[32m━━━━━━━━━━━━━━━━━━━\u001B[0m\u001B[37m━\u001B[0m \u001B[1m0s\u001B[0m 57ms/step - accuracy: 0.1714 - loss: 2.3765\n",
      "Epoch 12: ReduceLROnPlateau reducing learning rate to 0.0005000000237487257.\n",
      "\u001B[1m21/21\u001B[0m \u001B[32m━━━━━━━━━━━━━━━━━━━━\u001B[0m\u001B[37m\u001B[0m \u001B[1m1s\u001B[0m 65ms/step - accuracy: 0.1686 - loss: 2.3767 - val_accuracy: 0.1024 - val_loss: 2.3946 - learning_rate: 0.0010\n",
      "Epoch 13/30\n",
      "\u001B[1m21/21\u001B[0m \u001B[32m━━━━━━━━━━━━━━━━━━━━\u001B[0m\u001B[37m\u001B[0m \u001B[1m2s\u001B[0m 62ms/step - accuracy: 0.1400 - loss: 2.3836 - val_accuracy: 0.1024 - val_loss: 2.3949 - learning_rate: 5.0000e-04\n",
      "Epoch 14/30\n",
      "\u001B[1m21/21\u001B[0m \u001B[32m━━━━━━━━━━━━━━━━━━━━\u001B[0m\u001B[37m\u001B[0m \u001B[1m1s\u001B[0m 59ms/step - accuracy: 0.1193 - loss: 2.3808 - val_accuracy: 0.1024 - val_loss: 2.3954 - learning_rate: 5.0000e-04\n",
      "Epoch 15/30\n",
      "\u001B[1m20/21\u001B[0m \u001B[32m━━━━━━━━━━━━━━━━━━━\u001B[0m\u001B[37m━\u001B[0m \u001B[1m0s\u001B[0m 55ms/step - accuracy: 0.1392 - loss: 2.3718\n",
      "Epoch 15: ReduceLROnPlateau reducing learning rate to 0.0002500000118743628.\n",
      "\u001B[1m21/21\u001B[0m \u001B[32m━━━━━━━━━━━━━━━━━━━━\u001B[0m\u001B[37m\u001B[0m \u001B[1m1s\u001B[0m 59ms/step - accuracy: 0.1393 - loss: 2.3719 - val_accuracy: 0.1024 - val_loss: 2.3955 - learning_rate: 5.0000e-04\n",
      "Epoch 15: early stopping\n",
      "Restoring model weights from the end of the best epoch: 9.\n"
     ]
    }
   ]
  },
  {
   "metadata": {},
   "cell_type": "code",
   "outputs": [],
   "execution_count": null,
   "source": [
    "history_test=model.evaluate(test_seq)\n",
    "history_test"
   ]
  },
  {
   "cell_type": "code",
   "source": [
    "import shutil\n",
    "from google.colab import files\n",
    "\n",
    "# 압축하려는 폴더 이름과 ZIP 파일 이름 설정\n",
    "folder_name = 'cloud/cloud_aug'  # 폴더 이름\n",
    "zip_file_name = 'cloud_aug.zip'  # ZIP 파일 이름\n",
    "\n",
    "# 폴더를 ZIP으로 압축\n",
    "shutil.make_archive(folder_name, 'zip', folder_name)"
   ],
   "metadata": {
    "colab": {
     "base_uri": "https://localhost:8080/",
     "height": 315
    },
    "id": "hXUMfhaWNtd7",
    "executionInfo": {
     "status": "error",
     "timestamp": 1732603867646,
     "user_tz": -540,
     "elapsed": 5956,
     "user": {
      "displayName": "챈콩이",
      "userId": "00781481841991263062"
     }
    },
    "outputId": "56a95897-c084-4734-df5a-5f3fb0545399"
   },
   "execution_count": null,
   "outputs": [
    {
     "output_type": "error",
     "ename": "FileNotFoundError",
     "evalue": "Cannot find file: cloud_aug.zip",
     "traceback": [
      "\u001B[0;31m---------------------------------------------------------------------------\u001B[0m",
      "\u001B[0;31mFileNotFoundError\u001B[0m                         Traceback (most recent call last)",
      "\u001B[0;32m<ipython-input-14-701597e56653>\u001B[0m in \u001B[0;36m<cell line: 12>\u001B[0;34m()\u001B[0m\n\u001B[1;32m     10\u001B[0m \u001B[0;34m\u001B[0m\u001B[0m\n\u001B[1;32m     11\u001B[0m \u001B[0;31m# ZIP 파일 다운로드\u001B[0m\u001B[0;34m\u001B[0m\u001B[0;34m\u001B[0m\u001B[0m\n\u001B[0;32m---> 12\u001B[0;31m \u001B[0mfiles\u001B[0m\u001B[0;34m.\u001B[0m\u001B[0mdownload\u001B[0m\u001B[0;34m(\u001B[0m\u001B[0;34mf\"{zip_file_name}\"\u001B[0m\u001B[0;34m)\u001B[0m\u001B[0;34m\u001B[0m\u001B[0;34m\u001B[0m\u001B[0m\n\u001B[0m",
      "\u001B[0;32m/usr/local/lib/python3.10/dist-packages/google/colab/files.py\u001B[0m in \u001B[0;36mdownload\u001B[0;34m(filename)\u001B[0m\n\u001B[1;32m    231\u001B[0m   \u001B[0;32mif\u001B[0m \u001B[0;32mnot\u001B[0m \u001B[0m_os\u001B[0m\u001B[0;34m.\u001B[0m\u001B[0mpath\u001B[0m\u001B[0;34m.\u001B[0m\u001B[0mexists\u001B[0m\u001B[0;34m(\u001B[0m\u001B[0mfilename\u001B[0m\u001B[0;34m)\u001B[0m\u001B[0;34m:\u001B[0m\u001B[0;34m\u001B[0m\u001B[0;34m\u001B[0m\u001B[0m\n\u001B[1;32m    232\u001B[0m     \u001B[0mmsg\u001B[0m \u001B[0;34m=\u001B[0m \u001B[0;34m'Cannot find file: {}'\u001B[0m\u001B[0;34m.\u001B[0m\u001B[0mformat\u001B[0m\u001B[0;34m(\u001B[0m\u001B[0mfilename\u001B[0m\u001B[0;34m)\u001B[0m\u001B[0;34m\u001B[0m\u001B[0;34m\u001B[0m\u001B[0m\n\u001B[0;32m--> 233\u001B[0;31m     \u001B[0;32mraise\u001B[0m \u001B[0mFileNotFoundError\u001B[0m\u001B[0;34m(\u001B[0m\u001B[0mmsg\u001B[0m\u001B[0;34m)\u001B[0m  \u001B[0;31m# pylint: disable=undefined-variable\u001B[0m\u001B[0;34m\u001B[0m\u001B[0;34m\u001B[0m\u001B[0m\n\u001B[0m\u001B[1;32m    234\u001B[0m \u001B[0;34m\u001B[0m\u001B[0m\n\u001B[1;32m    235\u001B[0m   \u001B[0mcomm_manager\u001B[0m \u001B[0;34m=\u001B[0m \u001B[0m_IPython\u001B[0m\u001B[0;34m.\u001B[0m\u001B[0mget_ipython\u001B[0m\u001B[0;34m(\u001B[0m\u001B[0;34m)\u001B[0m\u001B[0;34m.\u001B[0m\u001B[0mkernel\u001B[0m\u001B[0;34m.\u001B[0m\u001B[0mcomm_manager\u001B[0m\u001B[0;34m\u001B[0m\u001B[0;34m\u001B[0m\u001B[0m\n",
      "\u001B[0;31mFileNotFoundError\u001B[0m: Cannot find file: cloud_aug.zip"
     ]
    }
   ]
  }
 ]
}
